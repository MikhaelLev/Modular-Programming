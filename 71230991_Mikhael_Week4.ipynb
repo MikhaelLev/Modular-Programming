{
  "nbformat": 4,
  "nbformat_minor": 0,
  "metadata": {
    "colab": {
      "provenance": []
    },
    "kernelspec": {
      "name": "python3",
      "display_name": "Python 3"
    },
    "language_info": {
      "name": "python"
    }
  },
  "cells": [
    {
      "cell_type": "markdown",
      "source": [
        "Latihan 4.1"
      ],
      "metadata": {
        "id": "VmsRee2Y62vu"
      }
    },
    {
      "cell_type": "code",
      "execution_count": 1,
      "metadata": {
        "colab": {
          "base_uri": "https://localhost:8080/"
        },
        "id": "LQ01wpEN6zNF",
        "outputId": "8707dfa9-bbd8-4086-ff6f-2d0485d743fa"
      },
      "outputs": [
        {
          "output_type": "stream",
          "name": "stdout",
          "text": [
            "Masukkan bilangan pertama: 12\n",
            "Masukkan bilangan kedua: 13\n",
            "Masukkan bilangan ketiga: 25\n",
            "True\n"
          ]
        }
      ],
      "source": [
        "def cek_angka(a, b, c):\n",
        "    if a + b == c or a + c == b or b + c == a:\n",
        "        if a != b and b != c and a!=c:\n",
        "            return True\n",
        "    return False\n",
        "\n",
        "a = int(input(\"Masukkan bilangan pertama: \"))\n",
        "b = int(input(\"Masukkan bilangan kedua: \"))\n",
        "c = int(input(\"Masukkan bilangan ketiga: \"))\n",
        "print(cek_angka(a, b, c))"
      ]
    },
    {
      "cell_type": "markdown",
      "source": [
        "Latihan 4.2"
      ],
      "metadata": {
        "id": "M2MXqn9R7JSs"
      }
    },
    {
      "cell_type": "code",
      "source": [
        "def cek_digit_belakang(a, b, c):\n",
        "  a = a % 10\n",
        "  b = b % 10\n",
        "  c = c % 10\n",
        "\n",
        "  if a == b or a == c or b == c:\n",
        "      return True\n",
        "  else:\n",
        "      return False\n",
        "\n",
        "a = int(input(\"Masukkan angka pertama: \"))\n",
        "b = int(input(\"Masukkan angka kedua: \"))\n",
        "c = int(input(\"Masukkan angka ketiga: \"))\n",
        "\n",
        "print(cek_digit_belakang(a, b, c))"
      ],
      "metadata": {
        "colab": {
          "base_uri": "https://localhost:8080/"
        },
        "id": "2eqhDqpJ7I26",
        "outputId": "b918ea63-5224-40d3-caaf-862228bf2056"
      },
      "execution_count": 2,
      "outputs": [
        {
          "output_type": "stream",
          "name": "stdout",
          "text": [
            "Masukkan angka pertama: 12\n",
            "Masukkan angka kedua: 22\n",
            "Masukkan angka ketiga: 432\n",
            "True\n"
          ]
        }
      ]
    },
    {
      "cell_type": "markdown",
      "source": [
        "Latihan 4.3"
      ],
      "metadata": {
        "id": "19vOn26V7UhQ"
      }
    },
    {
      "cell_type": "code",
      "source": [
        "f = lambda c : (9/5)* c + 32\n",
        "r = lambda c : 0.8 * c\n",
        "\n",
        "def konversi_suhu():\n",
        "    print(\"Pilih konversi suhu yang diinginkan: \")\n",
        "    print(\"1: Fahrenheit\")\n",
        "    print(\"2: Reamur\")\n",
        "    pilihan_suhu = (input(\"Masukkan pilihan suhu: \"))\n",
        "    return int(pilihan_suhu)\n",
        "\n",
        "c = int(input(\"Masukkan suhu celcius: \"))\n",
        "\n",
        "pilihan_konversi = konversi_suhu()\n",
        "\n",
        "if pilihan_konversi == 1:\n",
        "    output = f(c)\n",
        "    print(\"Input suhu celcius: {} \\n Output Fahrenheit: {}.\".format(c, output))\n",
        "elif pilihan_konversi == 2:\n",
        "    output = r(c)\n",
        "    print(\"Input suhu celcius: {} \\n Output Reamur: {}.\".format(c, output))\n",
        "else:\n",
        "    print(\"TIDAK VALID\")"
      ],
      "metadata": {
        "colab": {
          "base_uri": "https://localhost:8080/"
        },
        "id": "9NmsS69F7UKx",
        "outputId": "93e7e7a3-f426-4256-bb15-0a7a63cd79e9"
      },
      "execution_count": 4,
      "outputs": [
        {
          "output_type": "stream",
          "name": "stdout",
          "text": [
            "Masukkan suhu celcius: 100\n",
            "Pilih konversi suhu yang diinginkan: \n",
            "1: Fahrenheit\n",
            "2: Reamur\n",
            "Masukkan pilihan suhu: 1\n",
            "Input suhu celcius: 100 \n",
            " Output Fahrenheit: 212.0.\n"
          ]
        }
      ]
    }
  ]
}